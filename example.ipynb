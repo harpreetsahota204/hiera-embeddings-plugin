{
  "nbformat": 4,
  "nbformat_minor": 0,
  "metadata": {
    "colab": {
      "provenance": [],
      "machine_shape": "hm",
      "gpuType": "T4"
    },
    "kernelspec": {
      "name": "python3",
      "display_name": "Python 3"
    },
    "language_info": {
      "name": "python"
    },
    "accelerator": "GPU"
  },
  "cells": [
    {
      "cell_type": "code",
      "execution_count": null,
      "metadata": {
        "id": "YoygDwWATSVk"
      },
      "outputs": [],
      "source": [
        "pip install fiftyone umap-learn"
      ]
    },
    {
      "cell_type": "code",
      "source": [
        "!fiftyone plugins download https://github.com/harpreetsahota204/hiera-embeddings-plugin"
      ],
      "metadata": {
        "id": "u8ife584xSAr"
      },
      "execution_count": null,
      "outputs": []
    },
    {
      "cell_type": "code",
      "source": [
        "import fiftyone as fo\n",
        "import fiftyone.zoo as foz\n",
        "\n",
        "dataset = foz.load_zoo_dataset(\"quickstart\")"
      ],
      "metadata": {
        "id": "L2QsCL39TXo8"
      },
      "execution_count": null,
      "outputs": []
    },
    {
      "cell_type": "code",
      "source": [
        "fo.launch_app(dataset)"
      ],
      "metadata": {
        "id": "jjorO_Nk0IgC"
      },
      "execution_count": null,
      "outputs": []
    },
    {
      "cell_type": "code",
      "source": [
        "import fiftyone.operators as foo\n",
        "\n",
        "embedding_operator = foo.get_operator(\"@harpreetsahota/hiera_embeddings/compute_hiera_embeddings\")"
      ],
      "metadata": {
        "id": "YYcv9L93T00S"
      },
      "execution_count": null,
      "outputs": []
    },
    {
      "cell_type": "markdown",
      "source": [
        "Launch delegated service by running `fiftyone delegated launch` in terminal"
      ],
      "metadata": {
        "id": "eyOAmLW11iHW"
      }
    },
    {
      "cell_type": "code",
      "source": [
        "await embedding_operator(\n",
        "    dataset,\n",
        "    model_name=\"facebook/hiera-tiny-224-hf\",\n",
        "    emb_field=\"test_operator_delegated_mean\",\n",
        "    embedding_types=\"mean\",\n",
        "    delegate=True\n",
        "    )"
      ],
      "metadata": {
        "id": "sMPLAMcvZCh8"
      },
      "execution_count": null,
      "outputs": []
    },
    {
      "cell_type": "code",
      "source": [
        "fo.launch_app(dataset)"
      ],
      "metadata": {
        "id": "eyAF77da4d4K"
      },
      "execution_count": null,
      "outputs": []
    },
    {
      "cell_type": "code",
      "source": [
        "await embedding_operator(\n",
        "    dataset,\n",
        "    model_name=\"apple/aimv2-large-patch14-224\",\n",
        "    emb_field=\"test_operator_delegated_cls\",\n",
        "    embedding_types=\"cls\",\n",
        "    delegate=True\n",
        "    )"
      ],
      "metadata": {
        "id": "kWEd0_wo1Z8O"
      },
      "execution_count": null,
      "outputs": []
    },
    {
      "cell_type": "code",
      "source": [
        "dataset"
      ],
      "metadata": {
        "id": "dpG6iqHa2hjv"
      },
      "execution_count": null,
      "outputs": []
    },
    {
      "cell_type": "code",
      "source": [
        "import fiftyone.brain as fob\n",
        "\n",
        "results = fob.compute_visualization(\n",
        "    dataset,\n",
        "    embeddings=\"test_operator_delegated_mean\",\n",
        "    method=\"umap\",\n",
        "    brain_key=\"viz_operator_delegated_mean\",\n",
        "    num_dims=2,\n",
        "    verbose=True,\n",
        ")"
      ],
      "metadata": {
        "id": "P9Im_8FfiLU6"
      },
      "execution_count": null,
      "outputs": []
    },
    {
      "cell_type": "code",
      "source": [
        "import fiftyone.brain as fob\n",
        "\n",
        "results = fob.compute_visualization(\n",
        "    dataset,\n",
        "    embeddings=\"cls_emb\",\n",
        "    method=\"umap\",\n",
        "    brain_key=\"viz_operator_delegated_cls\",\n",
        "    num_dims=2,\n",
        "    verbose=True,\n",
        ")"
      ],
      "metadata": {
        "id": "fB6Uaf1h1w6w"
      },
      "execution_count": null,
      "outputs": []
    },
    {
      "cell_type": "code",
      "source": [
        "fo.launch_app(dataset)"
      ],
      "metadata": {
        "id": "xB2TBbR-vyph"
      },
      "execution_count": null,
      "outputs": []
    },
    {
      "cell_type": "code",
      "source": [
        "import fiftyone.brain as fob\n",
        "\n",
        "results = fob.compute_visualization(\n",
        "    dataset,\n",
        "    embeddings=\"cls_emb_app\",\n",
        "    method=\"umap\",\n",
        "    brain_key=\"viz_cls\",\n",
        "    num_dims=2,\n",
        "    verbose=True,\n",
        ")"
      ],
      "metadata": {
        "id": "5U7dXntLhmuG"
      },
      "execution_count": null,
      "outputs": []
    }
  ]
}