{
  "cells": [
    {
      "cell_type": "code",
      "execution_count": null,
      "metadata": {
        "id": "YoygDwWATSVk"
      },
      "outputs": [],
      "source": [
        "pip install fiftyone umap-learn"
      ]
    },
    {
      "cell_type": "code",
      "execution_count": null,
      "metadata": {
        "id": "u8ife584xSAr"
      },
      "outputs": [],
      "source": [
        "!fiftyone plugins download https://github.com/harpreetsahota204/hiera-embeddings-plugin"
      ]
    },
    {
      "cell_type": "code",
      "execution_count": null,
      "metadata": {
        "id": "L2QsCL39TXo8"
      },
      "outputs": [],
      "source": [
        "import fiftyone as fo\n",
        "import fiftyone.zoo as foz\n",
        "\n",
        "dataset = foz.load_zoo_dataset(\"quickstart\")"
      ]
    },
    {
      "cell_type": "code",
      "execution_count": null,
      "metadata": {
        "id": "jjorO_Nk0IgC"
      },
      "outputs": [],
      "source": [
        "fo.launch_app(dataset)"
      ]
    },
    {
      "cell_type": "code",
      "execution_count": null,
      "metadata": {
        "id": "YYcv9L93T00S"
      },
      "outputs": [],
      "source": [
        "import fiftyone.operators as foo\n",
        "\n",
        "embedding_operator = foo.get_operator(\"@harpreetsahota/hiera_embeddings/compute_hiera_embeddings\")"
      ]
    },
    {
      "cell_type": "markdown",
      "metadata": {
        "id": "eyOAmLW11iHW"
      },
      "source": [
        "Launch delegated service by running `fiftyone delegated launch` in terminal"
      ]
    },
    {
      "cell_type": "code",
      "execution_count": null,
      "metadata": {
        "id": "sMPLAMcvZCh8"
      },
      "outputs": [],
      "source": [
        "await embedding_operator(\n",
        "    dataset,\n",
        "    model_name=\"facebook/hiera-tiny-224-hf\",\n",
        "    emb_field=\"mean_emb\",\n",
        "    embedding_types=\"mean\",\n",
        "    delegate=True\n",
        "    )"
      ]
    },
    {
      "cell_type": "code",
      "execution_count": null,
      "metadata": {
        "id": "kWEd0_wo1Z8O"
      },
      "outputs": [],
      "source": [
        "await embedding_operator(\n",
        "    dataset,\n",
        "    model_name=\"apple/aimv2-large-patch14-224\",\n",
        "    emb_field=\"cls_emb\",\n",
        "    embedding_types=\"cls\",\n",
        "    delegate=True\n",
        "    )"
      ]
    },
    {
      "cell_type": "markdown",
      "metadata": {},
      "source": [
        "Verify embedding fields are on dataset"
      ]
    },
    {
      "cell_type": "code",
      "execution_count": null,
      "metadata": {
        "id": "dpG6iqHa2hjv"
      },
      "outputs": [],
      "source": [
        "dataset"
      ]
    },
    {
      "cell_type": "code",
      "execution_count": null,
      "metadata": {
        "id": "P9Im_8FfiLU6"
      },
      "outputs": [],
      "source": [
        "import fiftyone.brain as fob\n",
        "\n",
        "results = fob.compute_visualization(\n",
        "    dataset,\n",
        "    embeddings=\"mean_emb\",\n",
        "    method=\"umap\",\n",
        "    brain_key=\"viz_mean_emb\",\n",
        "    num_dims=2,\n",
        "    verbose=True,\n",
        ")"
      ]
    },
    {
      "cell_type": "code",
      "execution_count": null,
      "metadata": {
        "id": "fB6Uaf1h1w6w"
      },
      "outputs": [],
      "source": [
        "import fiftyone.brain as fob\n",
        "\n",
        "results = fob.compute_visualization(\n",
        "    dataset,\n",
        "    embeddings=\"cls_emb\",\n",
        "    method=\"umap\",\n",
        "    brain_key=\"viz_cls_emb\",\n",
        "    num_dims=2,\n",
        "    verbose=True,\n",
        ")"
      ]
    },
    {
      "cell_type": "code",
      "execution_count": null,
      "metadata": {
        "id": "xB2TBbR-vyph"
      },
      "outputs": [],
      "source": [
        "fo.launch_app(dataset)"
      ]
    }
  ],
  "metadata": {
    "accelerator": "GPU",
    "colab": {
      "gpuType": "T4",
      "machine_shape": "hm",
      "provenance": []
    },
    "kernelspec": {
      "display_name": "Python 3",
      "name": "python3"
    },
    "language_info": {
      "name": "python"
    }
  },
  "nbformat": 4,
  "nbformat_minor": 0
}
